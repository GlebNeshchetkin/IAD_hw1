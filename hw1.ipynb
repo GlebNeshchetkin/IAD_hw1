{
 "cells": [
  {
   "cell_type": "code",
   "execution_count": 40,
   "metadata": {},
   "outputs": [],
   "source": [
    "import time\n",
    "import numpy as np\n",
    "import concurrent.futures\n",
    "from multiprocessing import Pool\n",
    "from numba import njit\n"
   ]
  },
  {
   "cell_type": "markdown",
   "metadata": {},
   "source": [
    "### optimized algorithm"
   ]
  },
  {
   "cell_type": "code",
   "execution_count": 41,
   "metadata": {},
   "outputs": [],
   "source": [
    "@njit\n",
    "def match_timestamps(timestamps1: np.ndarray, timestamps2: np.ndarray) -> np.ndarray: \n",
    "    \"\"\"\n",
    "    Timestamp matching function. It returns such array `matching` of length len(timestamps1),\n",
    "    that for each index i of timestamps1 the output element matching[i] contains\n",
    "    the index j of timestamps2, so that the difference between\n",
    "    timestamps2[j] and timestamps1[i] is minimal.\n",
    "    \"\"\"\n",
    "    current_ts2 = 0\n",
    "    len_timestamps2 = len(timestamps2)\n",
    "    matching = np.zeros(len(timestamps1), dtype=np.int32)\n",
    "    for i, ts1 in enumerate(timestamps1):\n",
    "        current_diff = np.abs(timestamps2[current_ts2] - ts1)\n",
    "        current_ts2 += 1\n",
    "        while current_ts2 < len_timestamps2 and np.abs(timestamps2[current_ts2]-ts1) < current_diff:\n",
    "            current_diff = np.abs(timestamps2[current_ts2]-ts1)\n",
    "            current_ts2 += 1\n",
    "        current_ts2 -= 1\n",
    "        matching[i] = current_ts2\n",
    "\n",
    "    return matching"
   ]
  },
  {
   "cell_type": "markdown",
   "metadata": {},
   "source": [
    "### not optimized algorithm"
   ]
  },
  {
   "cell_type": "code",
   "execution_count": 42,
   "metadata": {},
   "outputs": [],
   "source": [
    "def match_timestamps_(timestamps1: np.ndarray, timestamps2: np.ndarray) -> np.ndarray:\n",
    "    matching = np.zeros(len(timestamps1), dtype=int)\n",
    "    for i, ts1 in enumerate(timestamps1):\n",
    "        min_index = np.argmin(np.abs(timestamps2 - ts1))\n",
    "        matching[i] = min_index\n",
    "    return matching"
   ]
  },
  {
   "cell_type": "markdown",
   "metadata": {},
   "source": [
    "### parallel algorithm"
   ]
  },
  {
   "cell_type": "code",
   "execution_count": 43,
   "metadata": {},
   "outputs": [],
   "source": [
    "def match_timestamps_parallel(timestamps1: np.ndarray, timestamps2: np.ndarray) -> np.ndarray:\n",
    "    def find_min_index(i):\n",
    "        ts1 = timestamps1[i]\n",
    "        min_index = np.argmin(np.abs(timestamps2 - ts1))\n",
    "        return min_index\n",
    "    matching = np.zeros(len(timestamps1), dtype=int)\n",
    "    with concurrent.futures.ThreadPoolExecutor(max_workers=8) as executor:\n",
    "        matching = list(executor.map(find_min_index, range(len(timestamps1))))\n",
    "    return np.array(matching)"
   ]
  },
  {
   "cell_type": "markdown",
   "metadata": {},
   "source": [
    "### make timestamps"
   ]
  },
  {
   "cell_type": "code",
   "execution_count": 44,
   "metadata": {},
   "outputs": [],
   "source": [
    "def make_timestamps(fps: int, st_ts: float, fn_ts: float) -> np.ndarray:\n",
    "    \"\"\"\n",
    "    Create array of timestamps. This array is discretized with fps,\n",
    "    but not evenly.\n",
    "    Timestamps are assumed sorted nad unique.\n",
    "    Parameters:\n",
    "    - fps: int\n",
    "        Average frame per second\n",
    "    - st_ts: float\n",
    "        First timestamp in the sequence\n",
    "    - fn_ts: float\n",
    "        Last timestamp in the sequence\n",
    "    Returns:\n",
    "        np.ndarray: synthetic timestamps\n",
    "    \"\"\"\n",
    "    # generate uniform timestamps\n",
    "    timestamps = np.linspace(st_ts, fn_ts, int((fn_ts - st_ts) * fps))\n",
    "    # add an fps noise\n",
    "    timestamps += np.random.randn(len(timestamps))\n",
    "    timestamps = np.unique(np.sort(timestamps))\n",
    "    return timestamps"
   ]
  },
  {
   "cell_type": "markdown",
   "metadata": {},
   "source": [
    "### time measurements"
   ]
  },
  {
   "cell_type": "code",
   "execution_count": 45,
   "metadata": {},
   "outputs": [
    {
     "name": "stdout",
     "output_type": "stream",
     "text": [
      "Average time unparalled algorithm: 0.002654087781906128\n"
     ]
    }
   ],
   "source": [
    "# generate timestamps for the first camera\n",
    "timestamps1 = make_timestamps(30, time.time() - 100, time.time() + 3600 * 2)\n",
    "# generate timestamps for the second camera\n",
    "timestamps2 = make_timestamps(60, time.time() + 200, time.time() + 3600 * 2.5)\n",
    "average_time = 0\n",
    "number_of_iterations = 1000\n",
    "for iter in range(number_of_iterations):\n",
    "    start_time = time.time()\n",
    "    matching = match_timestamps(timestamps1, timestamps2)\n",
    "    end_time = time.time()\n",
    "    average_time += end_time - start_time\n",
    "print(f\"Average time unparalled algorithm: {average_time/number_of_iterations}\")\n"
   ]
  },
  {
   "cell_type": "markdown",
   "metadata": {},
   "source": [
    "### check"
   ]
  },
  {
   "cell_type": "code",
   "execution_count": 46,
   "metadata": {},
   "outputs": [],
   "source": [
    "timestamps1 = make_timestamps(30, time.time() - 100, time.time() + 3600 * 2)\n",
    "timestamps2 = make_timestamps(60, time.time() + 200, time.time() + 3600 * 2.5)\n",
    "matching1 = match_timestamps(timestamps1, timestamps2)\n",
    "matching2 = match_timestamps_(timestamps1, timestamps2)\n",
    "matching3 = match_timestamps_parallel(timestamps1, timestamps2)\n",
    "for i in range(len(matching1)):\n",
    "    if matching1[i] != matching2[i] or matching1[i] != matching3[i]:\n",
    "        print('Error occured!')"
   ]
  }
 ],
 "metadata": {
  "kernelspec": {
   "display_name": "Python 3",
   "language": "python",
   "name": "python3"
  },
  "language_info": {
   "codemirror_mode": {
    "name": "ipython",
    "version": 3
   },
   "file_extension": ".py",
   "mimetype": "text/x-python",
   "name": "python",
   "nbconvert_exporter": "python",
   "pygments_lexer": "ipython3",
   "version": "3.9.6"
  }
 },
 "nbformat": 4,
 "nbformat_minor": 2
}
